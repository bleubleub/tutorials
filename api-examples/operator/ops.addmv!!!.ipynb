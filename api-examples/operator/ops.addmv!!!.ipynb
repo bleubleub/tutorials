{
 "cells": [
  {
   "cell_type": "markdown",
   "id": "620b1bb9-d188-4916-8a88-392b301e78dd",
   "metadata": {},
   "source": [
    "## mindspore.ops.addmv(input, mat, vec, *, beta=1, alpha=1) -〉 Tensor¶\n",
    "- 输入：\n",
    "    input、mat、vec必须是mindspore的tensor类型。\n",
    "    beta、alpha（可选）必须是int、float或bool类型。\n",
    "- 返回：tensor类型"
   ]
  },
  {
   "cell_type": "code",
   "execution_count": 28,
   "id": "518c829d-80a5-4d98-b90c-09635ae35665",
   "metadata": {},
   "outputs": [
    {
     "name": "stdout",
     "output_type": "stream",
     "text": [
      "mindspore output ->  [79. 76.]\n",
      "torch     output ->  tensor([79., 76.])\n"
     ]
    }
   ],
   "source": [
    "import mindspore as ms\n",
    "import torch\n",
    "input = [2., 3.]\n",
    "x1 = [2., 5., 3., 7.], [4., 2., 2., 7.]\n",
    "x2 = [3., 2., 4., 7.]\n",
    "\n",
    "y1 = ms.ops.addmv(ms.tensor(input), ms.tensor(x1), ms.tensor(x2))\n",
    "y2 = torch.addmv(torch.tensor(input), torch.tensor(x1), torch.tensor(x2))\n",
    "print ('mindspore output -> ',y1)\n",
    "print ('torch     output -> ',y2)"
   ]
  },
  {
   "cell_type": "markdown",
   "id": "5b540cc3-bcac-45d8-815c-b4c9ae90c03b",
   "metadata": {},
   "source": [
    "ms没有显示类型"
   ]
  },
  {
   "cell_type": "code",
   "execution_count": 1,
   "id": "0a73f7e9-780e-4dc5-81cb-1789ac7df520",
   "metadata": {},
   "outputs": [
    {
     "ename": "NameError",
     "evalue": "name 'ms' is not defined",
     "output_type": "error",
     "traceback": [
      "\u001b[0;31m---------------------------------------------------------------------------\u001b[0m",
      "\u001b[0;31mNameError\u001b[0m                                 Traceback (most recent call last)",
      "Cell \u001b[0;32mIn[1], line 5\u001b[0m\n\u001b[1;32m      2\u001b[0m x1 \u001b[38;5;241m=\u001b[39m [\u001b[38;5;241m2.\u001b[39m, \u001b[38;5;241m5.\u001b[39m, \u001b[38;5;241m3.\u001b[39m, \u001b[38;5;241m7.\u001b[39m], [\u001b[38;5;241m4.\u001b[39m, \u001b[38;5;241m2.\u001b[39m, \u001b[38;5;241m2.\u001b[39m, \u001b[38;5;241m7.\u001b[39m]\n\u001b[1;32m      3\u001b[0m x2 \u001b[38;5;241m=\u001b[39m [\u001b[38;5;241m3.\u001b[39m, \u001b[38;5;241m2.\u001b[39m, \u001b[38;5;241m4.\u001b[39m, \u001b[38;5;241m7.\u001b[39m]\n\u001b[0;32m----> 5\u001b[0m y1 \u001b[38;5;241m=\u001b[39m \u001b[43mms\u001b[49m\u001b[38;5;241m.\u001b[39mops\u001b[38;5;241m.\u001b[39maddmv(ms\u001b[38;5;241m.\u001b[39mtensor(\u001b[38;5;28minput\u001b[39m), ms\u001b[38;5;241m.\u001b[39mtensor(x1), ms\u001b[38;5;241m.\u001b[39mtensor(x2))\n\u001b[1;32m      6\u001b[0m \u001b[38;5;28mprint\u001b[39m(ms\u001b[38;5;241m.\u001b[39mtensor(\u001b[38;5;28minput\u001b[39m)\u001b[38;5;241m.\u001b[39mshape, ms\u001b[38;5;241m.\u001b[39mtensor(x1)\u001b[38;5;241m.\u001b[39mshape, ms\u001b[38;5;241m.\u001b[39mtensor(x2)\u001b[38;5;241m.\u001b[39mshape)\n",
      "\u001b[0;31mNameError\u001b[0m: name 'ms' is not defined"
     ]
    }
   ],
   "source": [
    "input = [2., 3., 4.]\n",
    "x1 = [2., 5., 3., 7.], [4., 2., 2., 7.]\n",
    "x2 = [3., 2., 4., 7.]\n",
    "\n",
    "y1 = ms.ops.addmv(ms.tensor(input), ms.tensor(x1), ms.tensor(x2))\n",
    "print(ms.tensor(input).shape, ms.tensor(x1).shape, ms.tensor(x2).shape)"
   ]
  },
  {
   "cell_type": "markdown",
   "id": "9b9adab2-ab21-438f-95b7-6a31668308d0",
   "metadata": {},
   "source": [
    "当input shape不为N时，预期失败，但概率失败，如果加上print(y1)则必在print处失败。实现bug, 且报错原因不清晰。"
   ]
  },
  {
   "cell_type": "code",
   "execution_count": 64,
   "id": "401c61be-e986-4538-8d18-13206e920e22",
   "metadata": {},
   "outputs": [
    {
     "ename": "RuntimeError",
     "evalue": "size mismatch, got input (3), mat (2x4), vec (4)",
     "output_type": "error",
     "traceback": [
      "\u001b[0;31m---------------------------------------------------------------------------\u001b[0m",
      "\u001b[0;31mRuntimeError\u001b[0m                              Traceback (most recent call last)",
      "Cell \u001b[0;32mIn[64], line 1\u001b[0m\n\u001b[0;32m----> 1\u001b[0m y2 \u001b[38;5;241m=\u001b[39m \u001b[43mtorch\u001b[49m\u001b[38;5;241;43m.\u001b[39;49m\u001b[43maddmv\u001b[49m\u001b[43m(\u001b[49m\u001b[43mtorch\u001b[49m\u001b[38;5;241;43m.\u001b[39;49m\u001b[43mtensor\u001b[49m\u001b[43m(\u001b[49m\u001b[38;5;28;43minput\u001b[39;49m\u001b[43m)\u001b[49m\u001b[43m,\u001b[49m\u001b[43m \u001b[49m\u001b[43mtorch\u001b[49m\u001b[38;5;241;43m.\u001b[39;49m\u001b[43mtensor\u001b[49m\u001b[43m(\u001b[49m\u001b[43mx1\u001b[49m\u001b[43m)\u001b[49m\u001b[43m,\u001b[49m\u001b[43m \u001b[49m\u001b[43mtorch\u001b[49m\u001b[38;5;241;43m.\u001b[39;49m\u001b[43mtensor\u001b[49m\u001b[43m(\u001b[49m\u001b[43mx2\u001b[49m\u001b[43m)\u001b[49m\u001b[43m)\u001b[49m\n\u001b[1;32m      2\u001b[0m \u001b[38;5;28mprint\u001b[39m (\u001b[38;5;124m'\u001b[39m\u001b[38;5;124mtorch     output -> \u001b[39m\u001b[38;5;124m'\u001b[39m,y2)\n",
      "\u001b[0;31mRuntimeError\u001b[0m: size mismatch, got input (3), mat (2x4), vec (4)"
     ]
    }
   ],
   "source": [
    "y2 = torch.addmv(torch.tensor(input), torch.tensor(x1), torch.tensor(x2))\n",
    "print ('torch     output -> ',y2)"
   ]
  },
  {
   "cell_type": "markdown",
   "id": "19468ca4-df0c-493f-b064-d694933210bb",
   "metadata": {},
   "source": [
    "torch报错原因清晰"
   ]
  }
 ],
 "metadata": {
  "kernelspec": {
   "display_name": "Python 3 (ipykernel)",
   "language": "python",
   "name": "python3"
  },
  "language_info": {
   "codemirror_mode": {
    "name": "ipython",
    "version": 3
   },
   "file_extension": ".py",
   "mimetype": "text/x-python",
   "name": "python",
   "nbconvert_exporter": "python",
   "pygments_lexer": "ipython3",
   "version": "3.9.18"
  }
 },
 "nbformat": 4,
 "nbformat_minor": 5
}
