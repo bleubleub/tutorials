{
 "cells": [
  {
   "cell_type": "code",
   "execution_count": 22,
   "id": "de760097-9dce-4894-9a07-805082c43aac",
   "metadata": {
    "tags": []
   },
   "outputs": [
    {
     "name": "stdout",
     "output_type": "stream",
     "text": [
      "mindspore output ->  [1.2 1.1]\n",
      "torch     output ->  tensor([1.2000, 1.1000], dtype=torch.float64)\n",
      "mlx       output ->  array([1.2, 1.1], dtype=float32)\n",
      "jax       output ->  [1.2 1.1]\n"
     ]
    }
   ],
   "source": [
    "import numpy as np\n",
    "import mindspore as ms\n",
    "import torch\n",
    "import mlx.core as mlx\n",
    "import jax.numpy as jnp\n",
    "x = np.array([-1.2,1.1])\n",
    "\n",
    "y1 = ms.ops.abs(ms.tensor(x))\n",
    "y2 = torch.abs(torch.tensor(x))\n",
    "y3 = mlx.abs(x)\n",
    "y4 = jnp.abs(x)\n",
    "print ('mindspore output -> ',y1)\n",
    "print ('torch     output -> ',y2)\n",
    "print ('mlx       output -> ',y3)\n",
    "print ('jax       output -> ',y4)"
   ]
  },
  {
   "cell_type": "code",
   "execution_count": 27,
   "id": "e6227cd2-c003-471a-bb8c-3ef79bf84b8a",
   "metadata": {
    "tags": []
   },
   "outputs": [
    {
     "name": "stdout",
     "output_type": "stream",
     "text": [
      "mindspore output ->  [1.62788206+0.j]\n",
      "torch     output ->  tensor([1.6279], dtype=torch.float64)\n",
      "mlx       output ->  array([1.62788], dtype=float32)\n",
      "jax       output ->  [1.6278821]\n"
     ]
    }
   ],
   "source": [
    "\n",
    "x1 = np.array([-1.2+1.1j])\n",
    "\n",
    "y1 = ms.ops.abs(ms.tensor(x1))\n",
    "y2 = torch.abs(torch.tensor(x1))\n",
    "y3 = mlx.abs(x1)\n",
    "y4 = jnp.abs(x1)\n",
    "print ('mindspore output -> ',y1)\n",
    "print ('torch     output -> ',y2)\n",
    "print ('mlx       output -> ',y3)\n",
    "print ('jax       output -> ',y4)"
   ]
  },
  {
   "cell_type": "markdown",
   "id": "4e3f92f8-a15b-47be-9a72-d54d1cd53a9b",
   "metadata": {},
   "source": [
    "1、增加显示dtype\n",
    "2、报错信息建议优化，后续更新"
   ]
  },
  {
   "cell_type": "code",
   "execution_count": null,
   "id": "f8d512f0-b8e1-4f06-bd26-c904bed63ae0",
   "metadata": {},
   "outputs": [],
   "source": []
  },
  {
   "cell_type": "code",
   "execution_count": null,
   "id": "eeb558d6-4a48-495b-9f8a-a78ddc8a0ed3",
   "metadata": {},
   "outputs": [],
   "source": []
  },
  {
   "cell_type": "code",
   "execution_count": null,
   "id": "eff1b7bc-97a3-44cd-923b-980a3ba44297",
   "metadata": {},
   "outputs": [],
   "source": []
  },
  {
   "cell_type": "code",
   "execution_count": null,
   "id": "3c985809-60dc-42e2-bb6d-58564eda94e2",
   "metadata": {},
   "outputs": [],
   "source": []
  },
  {
   "cell_type": "code",
   "execution_count": null,
   "id": "e0e4664f-af81-4d84-b5d4-6e92a79a51a0",
   "metadata": {},
   "outputs": [],
   "source": []
  },
  {
   "cell_type": "code",
   "execution_count": null,
   "id": "3d50854a-21e0-4ab1-9044-9949ec01dcfd",
   "metadata": {},
   "outputs": [],
   "source": []
  },
  {
   "cell_type": "raw",
   "id": "5603cc2f-e433-4fa0-9b9f-58f61b11f841",
   "metadata": {},
   "source": []
  },
  {
   "cell_type": "code",
   "execution_count": null,
   "id": "3dcff971-5056-4d60-a2f0-43fbdc9fec24",
   "metadata": {},
   "outputs": [],
   "source": []
  },
  {
   "cell_type": "code",
   "execution_count": null,
   "id": "635249dd-f9e6-403a-8e95-05fb1c0bf54d",
   "metadata": {},
   "outputs": [],
   "source": []
  },
  {
   "cell_type": "code",
   "execution_count": null,
   "id": "371cbb6d-c07d-4edc-b860-40764a8fed74",
   "metadata": {},
   "outputs": [],
   "source": []
  },
  {
   "cell_type": "code",
   "execution_count": null,
   "id": "19ab271e-fe71-4a9a-8a53-6c1e57b8b226",
   "metadata": {},
   "outputs": [],
   "source": []
  },
  {
   "cell_type": "code",
   "execution_count": null,
   "id": "d2cb08b7-b2f3-49e3-bfda-6dcc5ec924a4",
   "metadata": {},
   "outputs": [],
   "source": []
  },
  {
   "cell_type": "code",
   "execution_count": null,
   "id": "af68bfbd-2de5-4942-969d-f53c21809092",
   "metadata": {},
   "outputs": [],
   "source": []
  }
 ],
 "metadata": {
  "kernelspec": {
   "display_name": "Python 3 (ipykernel)",
   "language": "python",
   "name": "python3"
  },
  "language_info": {
   "codemirror_mode": {
    "name": "ipython",
    "version": 3
   },
   "file_extension": ".py",
   "mimetype": "text/x-python",
   "name": "python",
   "nbconvert_exporter": "python",
   "pygments_lexer": "ipython3",
   "version": "3.10.9"
  }
 },
 "nbformat": 4,
 "nbformat_minor": 5
}
