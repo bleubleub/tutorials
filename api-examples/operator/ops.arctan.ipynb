{
 "cells": [
  {
   "cell_type": "markdown",
   "id": "620b1bb9-d188-4916-8a88-392b301e78dd",
   "metadata": {},
   "source": [
    "## mindspore.ops.arctan(input) -〉 Tensor¶\n",
    "- 输入：input必须是mindspore的tensor类型，数据类型：\n",
    "    * Ascend: float16、float32。\n",
    "    * GPU/CPU: float16、float32、float64、complex64或complex128。值为float16、float32、float64、complex64或complex128。\n",
    "- 返回：tensor类型，值的数据类型与input相同。"
   ]
  },
  {
   "cell_type": "code",
   "execution_count": 2,
   "id": "518c829d-80a5-4d98-b90c-09635ae35665",
   "metadata": {},
   "outputs": [
    {
     "name": "stdout",
     "output_type": "stream",
     "text": [
      "mindspore output ->  [ 0.22995889  0.24864586 -0.55903065 -0.572711  ]\n",
      "torch     output ->  tensor([ 0.2300,  0.2486, -0.5590, -0.5727])\n"
     ]
    }
   ],
   "source": [
    "import mindspore as ms\n",
    "import torch\n",
    "input = [0.2341,  0.2539, -0.6256, -0.6448]\n",
    "\n",
    "y1 = ms.ops.arctan(ms.tensor(input))\n",
    "y2 = torch.arctan(torch.tensor(input))\n",
    "print ('mindspore output -> ',y1)\n",
    "print ('torch     output -> ',y2)"
   ]
  },
  {
   "cell_type": "markdown",
   "id": "5b540cc3-bcac-45d8-815c-b4c9ae90c03b",
   "metadata": {},
   "source": [
    "ms没有显示类型"
   ]
  },
  {
   "cell_type": "code",
   "execution_count": null,
   "id": "0a73f7e9-780e-4dc5-81cb-1789ac7df520",
   "metadata": {
    "scrolled": true
   },
   "outputs": [],
   "source": [
    "input = [-2, 3, 4]\n",
    "\n",
    "y1 = ms.ops.arctan(ms.tensor(input))\n",
    "print ('torch     output -> ',y1)"
   ]
  },
  {
   "cell_type": "code",
   "execution_count": null,
   "id": "401c61be-e986-4538-8d18-13206e920e22",
   "metadata": {},
   "outputs": [],
   "source": [
    "y2 = torch.arctan(torch.tensor(input))\n",
    "print ('torch     output -> ',y2)"
   ]
  },
  {
   "cell_type": "markdown",
   "id": "19468ca4-df0c-493f-b064-d694933210bb",
   "metadata": {},
   "source": [
    "ms不支持输入为int，torch支持。"
   ]
  }
 ],
 "metadata": {
  "kernelspec": {
   "display_name": "Python 3 (ipykernel)",
   "language": "python",
   "name": "python3"
  },
  "language_info": {
   "codemirror_mode": {
    "name": "ipython",
    "version": 3
   },
   "file_extension": ".py",
   "mimetype": "text/x-python",
   "name": "python",
   "nbconvert_exporter": "python",
   "pygments_lexer": "ipython3",
   "version": "3.9.18"
  }
 },
 "nbformat": 4,
 "nbformat_minor": 5
}
