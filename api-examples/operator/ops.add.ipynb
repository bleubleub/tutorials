{
 "cells": [
  {
   "cell_type": "markdown",
   "id": "620b1bb9-d188-4916-8a88-392b301e78dd",
   "metadata": {},
   "source": [
    "## mindspore.ops.add(input, other) -〉 Tensor¶\n",
    "- 输入和other：必须是mindspore的tensor、number.Number或bool类型。\n",
    "- 返回：tensor类型"
   ]
  },
  {
   "cell_type": "markdown",
   "id": "835731bf-8826-4671-8359-3d097f1ba50e",
   "metadata": {},
   "source": [
    "1、当输入和other都为tensor时"
   ]
  },
  {
   "cell_type": "code",
   "execution_count": 14,
   "id": "518c829d-80a5-4d98-b90c-09635ae35665",
   "metadata": {},
   "outputs": [
    {
     "name": "stdout",
     "output_type": "stream",
     "text": [
      "mindspore output ->  [0.34600002 1.6418     2.5918999  2.1173    ]\n",
      "torch     output ->  tensor([0.3460, 1.6418, 2.5919, 2.1173])\n"
     ]
    }
   ],
   "source": [
    "import mindspore as ms\n",
    "import torch\n",
    "a = [1.3192, 1.9915, 1.9674, 1.7151]\n",
    "b = [-0.9732, -0.3497,  0.6245,  0.4022]\n",
    "\n",
    "y1 = ms.ops.add(ms.tensor(a), ms.tensor(b))\n",
    "y2 = torch.add(torch.tensor(a), torch.tensor(b))\n",
    "print ('mindspore output -> ',y1)\n",
    "print ('torch     output -> ',y2)"
   ]
  },
  {
   "cell_type": "markdown",
   "id": "5b540cc3-bcac-45d8-815c-b4c9ae90c03b",
   "metadata": {},
   "source": [
    "ms没有显示类型"
   ]
  },
  {
   "cell_type": "markdown",
   "id": "8a1f1252-b867-4d01-88cd-b0182b434c1b",
   "metadata": {},
   "source": [
    "2、当输入为tensor, other为number时"
   ]
  },
  {
   "cell_type": "code",
   "execution_count": 3,
   "id": "138fd698-38db-4141-91a3-982ea0b8bc55",
   "metadata": {},
   "outputs": [
    {
     "name": "stdout",
     "output_type": "stream",
     "text": [
      "mindspore output ->  [21.3192 21.9915 21.9674 21.7151]\n",
      "torch     output ->  tensor([21.3192, 21.9915, 21.9674, 21.7151])\n"
     ]
    }
   ],
   "source": [
    "y1 = ms.ops.add(ms.tensor(a), 20)\n",
    "y2 = torch.add(torch.tensor(a), 20)\n",
    "print ('mindspore output -> ',y1)\n",
    "print ('torch     output -> ',y2)"
   ]
  },
  {
   "cell_type": "markdown",
   "id": "a6610416-0f87-46ad-987a-e02f743d17fb",
   "metadata": {},
   "source": [
    "3、当输入为tensor，other为bool值时"
   ]
  },
  {
   "cell_type": "code",
   "execution_count": 8,
   "id": "b525bece-bdc6-4bf2-ba9e-188c531d847a",
   "metadata": {},
   "outputs": [
    {
     "name": "stdout",
     "output_type": "stream",
     "text": [
      "mindspore output ->  [2.3192 2.9915 2.9674 2.7151]\n",
      "torch     output ->  tensor([2.3192, 2.9915, 2.9674, 2.7151])\n"
     ]
    }
   ],
   "source": [
    "y1 = ms.ops.add(ms.tensor(a), True)\n",
    "y2 = torch.add(torch.tensor(a), True)\n",
    "print ('mindspore output -> ',y1)\n",
    "print ('torch     output -> ',y2)"
   ]
  },
  {
   "cell_type": "markdown",
   "id": "9db09401-8274-4ff2-b11a-b6fddae1ddd7",
   "metadata": {},
   "source": [
    "torch虽然文档中没有说输入和other支持bool类型，但实测支持。"
   ]
  },
  {
   "cell_type": "code",
   "execution_count": 10,
   "id": "401c61be-e986-4538-8d18-13206e920e22",
   "metadata": {},
   "outputs": [
    {
     "ename": "TypeError",
     "evalue": "Failed calling Add with \"Add()(input=List<float, float, float, float>, other=List<float, float, float, float>)\".\nThe valid calling should be: \n\"Add()(input=<Number, Tensor>, other=<Number, Tensor>)\".\n\n----------------------------------------------------\n- C++ Call Stack: (For framework developers)\n----------------------------------------------------\nmindspore/ccsrc/pipeline/pynative/pynative_utils.cc:1294 PrintTypeCastError\n",
     "output_type": "error",
     "traceback": [
      "\u001b[0;31m---------------------------------------------------------------------------\u001b[0m",
      "\u001b[0;31mTypeError\u001b[0m                                 Traceback (most recent call last)",
      "\u001b[0;32m/var/folders/wy/5yzfdb6x7pvfxh89zcmf_w780000gn/T/ipykernel_45292/852565824.py\u001b[0m in \u001b[0;36m?\u001b[0;34m()\u001b[0m\n\u001b[0;32m----> 1\u001b[0;31m \u001b[0my1\u001b[0m \u001b[0;34m=\u001b[0m \u001b[0mms\u001b[0m\u001b[0;34m.\u001b[0m\u001b[0mops\u001b[0m\u001b[0;34m.\u001b[0m\u001b[0madd\u001b[0m\u001b[0;34m(\u001b[0m\u001b[0ma\u001b[0m\u001b[0;34m,\u001b[0m \u001b[0mb\u001b[0m\u001b[0;34m)\u001b[0m\u001b[0;34m\u001b[0m\u001b[0;34m\u001b[0m\u001b[0m\n\u001b[0m",
      "\u001b[0;32m/opt/anaconda3/envs/mindspore/lib/python3.9/site-packages/mindspore/ops/auto_generate/gen_ops_def.py\u001b[0m in \u001b[0;36m?\u001b[0;34m(input, other)\u001b[0m\n\u001b[1;32m    366\u001b[0m         \u001b[0;34m>>\u001b[0m\u001b[0;34m>\u001b[0m \u001b[0;31m# and the output is the data format of higher precision float32.\u001b[0m\u001b[0;34m\u001b[0m\u001b[0;34m\u001b[0m\u001b[0m\n\u001b[1;32m    367\u001b[0m         \u001b[0;34m>>\u001b[0m\u001b[0;34m>\u001b[0m \u001b[0mprint\u001b[0m\u001b[0;34m(\u001b[0m\u001b[0moutput\u001b[0m\u001b[0;34m.\u001b[0m\u001b[0mdtype\u001b[0m\u001b[0;34m)\u001b[0m\u001b[0;34m\u001b[0m\u001b[0;34m\u001b[0m\u001b[0m\n\u001b[1;32m    368\u001b[0m         \u001b[0mFloat32\u001b[0m\u001b[0;34m\u001b[0m\u001b[0;34m\u001b[0m\u001b[0m\n\u001b[1;32m    369\u001b[0m     \"\"\"\n\u001b[0;32m--> 370\u001b[0;31m     \u001b[0;32mreturn\u001b[0m \u001b[0madd_op\u001b[0m\u001b[0;34m(\u001b[0m\u001b[0minput\u001b[0m\u001b[0;34m,\u001b[0m \u001b[0mother\u001b[0m\u001b[0;34m)\u001b[0m\u001b[0;34m\u001b[0m\u001b[0;34m\u001b[0m\u001b[0m\n\u001b[0m",
      "\u001b[0;32m/opt/anaconda3/envs/mindspore/lib/python3.9/site-packages/mindspore/ops/auto_generate/gen_ops_prim.py\u001b[0m in \u001b[0;36m?\u001b[0;34m(self, input, other)\u001b[0m\n\u001b[1;32m    971\u001b[0m     \u001b[0;32mdef\u001b[0m \u001b[0m__call__\u001b[0m\u001b[0;34m(\u001b[0m\u001b[0mself\u001b[0m\u001b[0;34m,\u001b[0m \u001b[0minput\u001b[0m\u001b[0;34m,\u001b[0m \u001b[0mother\u001b[0m\u001b[0;34m)\u001b[0m\u001b[0;34m:\u001b[0m\u001b[0;34m\u001b[0m\u001b[0;34m\u001b[0m\u001b[0m\n\u001b[0;32m--> 972\u001b[0;31m           \u001b[0;32mreturn\u001b[0m \u001b[0m_convert_stub\u001b[0m\u001b[0;34m(\u001b[0m\u001b[0mpyboost_add\u001b[0m\u001b[0;34m(\u001b[0m\u001b[0mself\u001b[0m\u001b[0;34m,\u001b[0m \u001b[0;34m[\u001b[0m\u001b[0minput\u001b[0m\u001b[0;34m,\u001b[0m \u001b[0mother\u001b[0m\u001b[0;34m]\u001b[0m\u001b[0;34m)\u001b[0m\u001b[0;34m)\u001b[0m\u001b[0;34m\u001b[0m\u001b[0;34m\u001b[0m\u001b[0m\n\u001b[0m",
      "\u001b[0;31mTypeError\u001b[0m: Failed calling Add with \"Add()(input=List<float, float, float, float>, other=List<float, float, float, float>)\".\nThe valid calling should be: \n\"Add()(input=<Number, Tensor>, other=<Number, Tensor>)\".\n\n----------------------------------------------------\n- C++ Call Stack: (For framework developers)\n----------------------------------------------------\nmindspore/ccsrc/pipeline/pynative/pynative_utils.cc:1294 PrintTypeCastError\n"
     ]
    }
   ],
   "source": [
    "y1 = ms.ops.add(a, b)"
   ]
  },
  {
   "cell_type": "code",
   "execution_count": 11,
   "id": "2a312bf6-6843-4a79-976e-ca8d0406c06d",
   "metadata": {},
   "outputs": [
    {
     "ename": "TypeError",
     "evalue": "add(): argument 'input' (position 1) must be Tensor, not list",
     "output_type": "error",
     "traceback": [
      "\u001b[0;31m---------------------------------------------------------------------------\u001b[0m",
      "\u001b[0;31mTypeError\u001b[0m                                 Traceback (most recent call last)",
      "Cell \u001b[0;32mIn[11], line 1\u001b[0m\n\u001b[0;32m----> 1\u001b[0m y2 \u001b[38;5;241m=\u001b[39m \u001b[43mtorch\u001b[49m\u001b[38;5;241;43m.\u001b[39;49m\u001b[43madd\u001b[49m\u001b[43m(\u001b[49m\u001b[43ma\u001b[49m\u001b[43m,\u001b[49m\u001b[43m \u001b[49m\u001b[43mb\u001b[49m\u001b[43m)\u001b[49m\n",
      "\u001b[0;31mTypeError\u001b[0m: add(): argument 'input' (position 1) must be Tensor, not list"
     ]
    }
   ],
   "source": [
    "y2 = torch.add(a, b)"
   ]
  },
  {
   "cell_type": "markdown",
   "id": "9d1b4b8c-6905-4efe-8fac-d54147aaec43",
   "metadata": {},
   "source": [
    "ms报错信息建议优化"
   ]
  },
  {
   "cell_type": "code",
   "execution_count": 12,
   "id": "4e228792-9656-4049-8e2f-62db167b498e",
   "metadata": {},
   "outputs": [
    {
     "data": {
      "text/plain": [
       "Tensor(shape=[4], dtype=Float32, value= [ 3.46000016e-01,  1.64180005e+00,  2.59189987e+00,  2.11730003e+00])"
      ]
     },
     "execution_count": 12,
     "metadata": {},
     "output_type": "execute_result"
    }
   ],
   "source": [
    "ms.ops.add(ms.tensor(a), ms.tensor(b))"
   ]
  },
  {
   "cell_type": "code",
   "execution_count": 13,
   "id": "91560d60-61d5-488b-b85a-63f0e47db8b1",
   "metadata": {},
   "outputs": [
    {
     "data": {
      "text/plain": [
       "tensor([0.3460, 1.6418, 2.5919, 2.1173])"
      ]
     },
     "execution_count": 13,
     "metadata": {},
     "output_type": "execute_result"
    }
   ],
   "source": [
    "torch.add(torch.tensor(a), torch.tensor(b))"
   ]
  },
  {
   "cell_type": "markdown",
   "id": "25e3c540-86e4-4772-b85c-b132e81dc389",
   "metadata": {},
   "source": [
    "ms的返回值建议优化"
   ]
  }
 ],
 "metadata": {
  "kernelspec": {
   "display_name": "Python 3 (ipykernel)",
   "language": "python",
   "name": "python3"
  },
  "language_info": {
   "codemirror_mode": {
    "name": "ipython",
    "version": 3
   },
   "file_extension": ".py",
   "mimetype": "text/x-python",
   "name": "python",
   "nbconvert_exporter": "python",
   "pygments_lexer": "ipython3",
   "version": "3.9.18"
  }
 },
 "nbformat": 4,
 "nbformat_minor": 5
}
